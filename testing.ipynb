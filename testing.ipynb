{
 "cells": [
  {
   "cell_type": "code",
   "execution_count": 4,
   "metadata": {},
   "outputs": [],
   "source": [
    "import networkx as nx\n",
    "\n",
    "def load_network(file_path):\n",
    "    G = nx.Graph()\n",
    "    with open(file_path, 'r') as f:\n",
    "        for line in f:\n",
    "            parts = line.strip().split()\n",
    "            if len(parts) == 2:\n",
    "                G.add_edge(int(parts[0]), int(parts[1]))\n",
    "    return G"
   ]
  },
  {
   "cell_type": "code",
   "execution_count": 7,
   "metadata": {},
   "outputs": [],
   "source": [
    "fpath = \"/root/storage/implementation/lecture_bigdata_proj/TC1/TC1-1/1-1.dat\""
   ]
  },
  {
   "cell_type": "code",
   "execution_count": 9,
   "metadata": {},
   "outputs": [],
   "source": [
    "G = load_network(fpath)"
   ]
  },
  {
   "cell_type": "code",
   "execution_count": 12,
   "metadata": {},
   "outputs": [
    {
     "ename": "TypeError",
     "evalue": "'Graph' object is not callable",
     "output_type": "error",
     "traceback": [
      "\u001b[0;31m---------------------------------------------------------------------------\u001b[0m",
      "\u001b[0;31mTypeError\u001b[0m                                 Traceback (most recent call last)",
      "Cell \u001b[0;32mIn[12], line 1\u001b[0m\n\u001b[0;32m----> 1\u001b[0m \u001b[43mG\u001b[49m\u001b[43m(\u001b[49m\u001b[43m)\u001b[49m\n",
      "\u001b[0;31mTypeError\u001b[0m: 'Graph' object is not callable"
     ]
    }
   ],
   "source": [
    "G()"
   ]
  },
  {
   "cell_type": "code",
   "execution_count": 11,
   "metadata": {},
   "outputs": [
    {
     "data": {
      "text/plain": [
       "10000"
      ]
     },
     "execution_count": 11,
     "metadata": {},
     "output_type": "execute_result"
    }
   ],
   "source": [
    "len(G)"
   ]
  },
  {
   "cell_type": "code",
   "execution_count": 2,
   "metadata": {},
   "outputs": [
    {
     "name": "stdout",
     "output_type": "stream",
     "text": [
      "/root/storage/implementation/lecture_bigdata_proj/sample_code\n"
     ]
    }
   ],
   "source": [
    "!pwd"
   ]
  },
  {
   "cell_type": "code",
   "execution_count": 5,
   "metadata": {},
   "outputs": [
    {
     "data": {
      "text/plain": [
       "array([['TC_b.dat', '0.976728', '0.1'],\n",
       "       ['TC_c.dat', '0.975873', '0.1'],\n",
       "       ['TC_d.dat', '0.975916', '0.1'],\n",
       "       ['TC_e.dat', '0.975877', '0.1'],\n",
       "       ['TC_f.dat', '0.975877', '0.1'],\n",
       "       ['TC_g.dat', '0.970975', '0.1'],\n",
       "       ['TC_h.dat', '0.980469', '0.1'],\n",
       "       ['TC_i.dat', '0.976264', '0.1'],\n",
       "       ['TC_j.dat', '0.976046', '0.1'],\n",
       "       ['TC_k.dat', '0.975860', '0.1'],\n",
       "       ['TC_l.dat', '0.974967', '0.1']], dtype='<U8')"
      ]
     },
     "execution_count": 5,
     "metadata": {},
     "output_type": "execute_result"
    }
   ],
   "source": [
    "import numpy as np\n",
    "import os \n",
    "\n",
    "np.loadtxt(os.path.join('/root/storage/implementation/lecture_bigdata_proj/graph_dataset','label.txt'), dtype=str)"
   ]
  },
  {
   "cell_type": "code",
   "execution_count": 13,
   "metadata": {},
   "outputs": [
    {
     "ename": "IndexError",
     "evalue": "list index out of range",
     "output_type": "error",
     "traceback": [
      "\u001b[0;31m---------------------------------------------------------------------------\u001b[0m",
      "\u001b[0;31mIndexError\u001b[0m                                Traceback (most recent call last)",
      "Cell \u001b[0;32mIn[13], line 30\u001b[0m\n\u001b[1;32m     28\u001b[0m \u001b[38;5;28;01mfor\u001b[39;00m txt_file \u001b[38;5;129;01min\u001b[39;00m txt_files:\n\u001b[1;32m     29\u001b[0m     file_path \u001b[38;5;241m=\u001b[39m os\u001b[38;5;241m.\u001b[39mpath\u001b[38;5;241m.\u001b[39mjoin(directory, txt_file)\n\u001b[0;32m---> 30\u001b[0m     df \u001b[38;5;241m=\u001b[39m \u001b[43mread_txt_file\u001b[49m\u001b[43m(\u001b[49m\u001b[43mfile_path\u001b[49m\u001b[43m)\u001b[49m\n\u001b[1;32m     32\u001b[0m     \u001b[38;5;66;03m# Plot the data\u001b[39;00m\n\u001b[1;32m     33\u001b[0m     plt\u001b[38;5;241m.\u001b[39mfigure()\n",
      "Cell \u001b[0;32mIn[13], line 22\u001b[0m, in \u001b[0;36mread_txt_file\u001b[0;34m(file_path)\u001b[0m\n\u001b[1;32m     20\u001b[0m iter_val \u001b[38;5;241m=\u001b[39m parts[\u001b[38;5;241m1\u001b[39m]\n\u001b[1;32m     21\u001b[0m resolution \u001b[38;5;241m=\u001b[39m \u001b[38;5;28mfloat\u001b[39m(parts[\u001b[38;5;241m3\u001b[39m]\u001b[38;5;241m.\u001b[39msplit(\u001b[38;5;124m'\u001b[39m\u001b[38;5;124m,\u001b[39m\u001b[38;5;124m'\u001b[39m)[\u001b[38;5;241m-\u001b[39m\u001b[38;5;241m1\u001b[39m])\n\u001b[0;32m---> 22\u001b[0m \u001b[38;5;28mprint\u001b[39m(\u001b[43mparts\u001b[49m\u001b[43m[\u001b[49m\u001b[38;5;241;43m5\u001b[39;49m\u001b[43m]\u001b[49m\u001b[38;5;241m.\u001b[39msplit(\u001b[38;5;124m'\u001b[39m\u001b[38;5;124m,\u001b[39m\u001b[38;5;124m'\u001b[39m)[\u001b[38;5;241m-\u001b[39m\u001b[38;5;241m1\u001b[39m])\n\u001b[1;32m     23\u001b[0m nmi \u001b[38;5;241m=\u001b[39m \u001b[38;5;28mfloat\u001b[39m(parts[\u001b[38;5;241m5\u001b[39m])\n\u001b[1;32m     24\u001b[0m data\u001b[38;5;241m.\u001b[39mappend((resolution, nmi))\n",
      "\u001b[0;31mIndexError\u001b[0m: list index out of range"
     ]
    }
   ],
   "source": [
    "import matplotlib.pyplot as plt\n",
    "import os\n",
    "import pandas as pd\n",
    "\n",
    "# Specify the directory containing the text files\n",
    "directory = '/root/storage/implementation/lecture_bigdata_proj/graph_dataset(temp)'\n",
    "\n",
    "# List all files in the directory\n",
    "files = os.listdir(directory)\n",
    "\n",
    "# Filter for .txt files\n",
    "txt_files = [f for f in files if f.endswith('.txt')]\n",
    "\n",
    "# Function to read a .txt file and return a DataFrame\n",
    "def read_txt_file(file_path):\n",
    "    data = []\n",
    "    with open(file_path, 'r') as file:\n",
    "        for line in file:\n",
    "            parts = line.strip().split()\n",
    "            iter_val = parts[1]\n",
    "            resolution = float(parts[3].split(',')[-1])\n",
    "            # print(parts[5].split(',')[-1])\n",
    "            nmi = float(parts[4].split(',')[-1])\n",
    "            data.append((resolution, nmi))\n",
    "    return pd.DataFrame(data, columns=['resolution', 'nmi'])\n",
    "\n",
    "# Loop through each .txt file and plot the data\n",
    "for txt_file in txt_files:\n",
    "    file_path = os.path.join(directory, txt_file)\n",
    "    df = read_txt_file(file_path)\n",
    "    \n",
    "    # Plot the data\n",
    "    plt.figure()\n",
    "    plt.plot(df['resolution'], df['nmi'], marker='o')\n",
    "    plt.title(f'Graph for {txt_file}')\n",
    "    plt.xlabel('Resolution')\n",
    "    plt.ylabel('NMI')\n",
    "    plt.grid(True)\n",
    "    plt.show()\n"
   ]
  },
  {
   "cell_type": "code",
   "execution_count": null,
   "metadata": {},
   "outputs": [],
   "source": []
  }
 ],
 "metadata": {
  "kernelspec": {
   "display_name": "base",
   "language": "python",
   "name": "python3"
  },
  "language_info": {
   "codemirror_mode": {
    "name": "ipython",
    "version": 3
   },
   "file_extension": ".py",
   "mimetype": "text/x-python",
   "name": "python",
   "nbconvert_exporter": "python",
   "pygments_lexer": "ipython3",
   "version": "3.9.19"
  }
 },
 "nbformat": 4,
 "nbformat_minor": 2
}
